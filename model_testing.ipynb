{
 "cells": [
  {
   "cell_type": "code",
   "execution_count": 1,
   "metadata": {},
   "outputs": [],
   "source": [
    "import os,sys\n",
    "\n",
    "current_path = os.path.abspath('')\n",
    "sys.path.append(os.path.join(current_path,'djangoapp','news','scripts'))\n",
    "sys.path.append(os.path.join(current_path,'djangoapp','news','vertex'))\n"
   ]
  },
  {
   "cell_type": "code",
   "execution_count": 5,
   "metadata": {},
   "outputs": [],
   "source": [
    "import pickle\n",
    "from django.conf import settings\n",
    "from transformers import pipeline\n",
    "from nlp import NLP\n",
    "from llm import LocalLLM\n",
    "from cloud.vertex_connection import VertexAI\n",
    "\n",
    "from nltk.corpus import wordnet\n"
   ]
  },
  {
   "cell_type": "code",
   "execution_count": 6,
   "metadata": {},
   "outputs": [],
   "source": [
    "class ModelLoader():\n",
    "    def __init__(self):\n",
    "\n",
    "        # load NLP model\n",
    "        self.nlp = NLP() \n",
    "\n",
    "        # wordnet is lazy loaded, this poses a problem when using multiprocessing\n",
    "        wordnet.ensure_loaded()\n",
    "\n",
    "\n",
    "        # load LocalLLM\n",
    "        self.llm = LocalLLM()\n",
    "\n",
    "        # load summarizer\n",
    "        self.summarizer = pipeline(\"summarization\", model=\"Falconsai/text_summarization\")\n",
    "        \n",
    "        # load VertexAI\n",
    "        self.vertex = VertexAI()\n",
    "        \n"
   ]
  },
  {
   "cell_type": "code",
   "execution_count": 7,
   "metadata": {},
   "outputs": [],
   "source": [
    "model_loader = ModelLoader()"
   ]
  },
  {
   "cell_type": "code",
   "execution_count": 9,
   "metadata": {},
   "outputs": [],
   "source": [
    "\n",
    "def classify_NLP(title, nlp):\n",
    "    clickbait_decision_NLP_proba = nlp.predict_on_text(title)\n",
    "    clickbait_decision_NLP_proba = clickbait_decision_NLP_proba[0][1]\n",
    "    return int(clickbait_decision_NLP_proba > nlp.proba_cutoff)\n",
    "\n",
    "def classify_LLM(title, llm):\n",
    "    proba_cutoff = 0.5\n",
    "    probability = llm.predict(title)\n",
    "    result = int(probability > proba_cutoff)\n",
    "    return result\n",
    "    \n",
    "\n",
    "def classify_VERTEX(title, vertex, summary=None):\n",
    "    try:\n",
    "        if summary:\n",
    "            clickbait_decision_VERTEX = vertex.run(title=title, summary=summary)\n",
    "        else:\n",
    "            clickbait_decision_VERTEX = vertex.run(title=title)\n",
    "        return int(clickbait_decision_VERTEX)\n",
    "    except:\n",
    "        return -1"
   ]
  },
  {
   "cell_type": "code",
   "execution_count": 10,
   "metadata": {},
   "outputs": [
    {
     "name": "stderr",
     "output_type": "stream",
     "text": [
      "Your max_length is set to 200, but your input_length is only 97. Since this is a summarization task, where outputs shorter than the input are typically wanted, you might consider decreasing max_length manually, e.g. summarizer('...', max_length=48)\n"
     ]
    },
    {
     "name": "stdout",
     "output_type": "stream",
     "text": [
      "Prediction: 1 for prompt: Is this title a clickbait: ' rrruasfajlsfhd'? Return 1 if yes, 0 if no.\n",
      "Return value: True\n"
     ]
    }
   ],
   "source": [
    "title = ' rrruasfajlsfhd'\n",
    "content = 'asdfsadfsadasdfasfdlkjasfdljkasfdjlkasfdjlkasfdjlkasfdjlk a sadklfj slkadjflksad lksdjf lkasjf lk sadlkasdj lfk'\n",
    "\n",
    "# Access the loaded models\n",
    "nlp = model_loader.nlp\n",
    "llm = model_loader.llm\n",
    "summarizer = model_loader.summarizer\n",
    "vertex = VertexAI()\n",
    "\n",
    "\n",
    "content_summary = summarizer(content, max_length=200, min_length=40, do_sample=False)[0][\"summary_text\"]\n",
    "clickbait_decision_NLP = classify_NLP(title, nlp)\n",
    "clickbait_decision_LLM = classify_LLM(title, llm)\n",
    "clickbait_decision_VERTEX = classify_VERTEX(title, vertex)"
   ]
  },
  {
   "cell_type": "code",
   "execution_count": 14,
   "metadata": {},
   "outputs": [
    {
     "data": {
      "text/plain": [
       "1"
      ]
     },
     "execution_count": 14,
     "metadata": {},
     "output_type": "execute_result"
    }
   ],
   "source": [
    "clickbait_decision_VERTEX"
   ]
  },
  {
   "cell_type": "code",
   "execution_count": null,
   "metadata": {},
   "outputs": [],
   "source": []
  }
 ],
 "metadata": {
  "kernelspec": {
   "display_name": "pracainzynierska-fLg2VTCj-py3.11",
   "language": "python",
   "name": "python3"
  },
  "language_info": {
   "codemirror_mode": {
    "name": "ipython",
    "version": 3
   },
   "file_extension": ".py",
   "mimetype": "text/x-python",
   "name": "python",
   "nbconvert_exporter": "python",
   "pygments_lexer": "ipython3",
   "version": "3.11.5"
  }
 },
 "nbformat": 4,
 "nbformat_minor": 2
}
